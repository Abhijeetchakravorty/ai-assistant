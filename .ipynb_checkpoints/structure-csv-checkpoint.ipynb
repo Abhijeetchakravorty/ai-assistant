{
 "cells": [
  {
   "cell_type": "code",
   "execution_count": 25,
   "metadata": {},
   "outputs": [
    {
     "name": "stdout",
     "output_type": "stream",
     "text": [
      "                                                  name discountedPrice  \\\n",
      "0                                                 None            None   \n",
      "1            Redmi 9 (Sky Blue, 4GB RAM, 64GB Storage)           8,799   \n",
      "2    Redmi 9A (Nature Green, 2GB Ram, 32GB Storage)...           6,799   \n",
      "3                                                 None            None   \n",
      "4    (Renewed) Samsung Galaxy F41 (Fusion Black, 6G...          15,499   \n",
      "..                                                 ...             ...   \n",
      "228         I KALL K325 Smartphone (2GB, 16GB) (Green)           4,799   \n",
      "229  Redmi 9 Prime (Matte Black, 4GB RAM, 128GB Sto...          10,999   \n",
      "230                                               None            None   \n",
      "231                                               None            None   \n",
      "232                                               None            None   \n",
      "\n",
      "                                                imgUrl actualPrice  \\\n",
      "0    https://images-na.ssl-images-amazon.com/images...        None   \n",
      "1    https://m.media-amazon.com/images/I/71A9Vo1Bat...      ₹8,799   \n",
      "2    https://m.media-amazon.com/images/I/71sxlhYhKW...      ₹6,799   \n",
      "3    https://images-na.ssl-images-amazon.com/images...        None   \n",
      "4    https://m.media-amazon.com/images/I/51IwsJ2F+q...     ₹15,499   \n",
      "..                                                 ...         ...   \n",
      "228  https://m.media-amazon.com/images/I/41SwAoHxdE...      ₹4,799   \n",
      "229  https://m.media-amazon.com/images/I/71U2SiHgbi...     ₹10,999   \n",
      "230                                               None        None   \n",
      "231                                               None        None   \n",
      "232                                               None        None   \n",
      "\n",
      "                 rating  \n",
      "0                  None  \n",
      "1    4.1 out of 5 stars  \n",
      "2    4.2 out of 5 stars  \n",
      "3                  None  \n",
      "4                  None  \n",
      "..                  ...  \n",
      "228  5.0 out of 5 stars  \n",
      "229  4.3 out of 5 stars  \n",
      "230                None  \n",
      "231                None  \n",
      "232                None  \n",
      "\n",
      "[233 rows x 5 columns]\n"
     ]
    }
   ],
   "source": [
    "import pandas as pd\n",
    "df = pd.read_json('/Users/abhijeetchakravorty/Sites/ai-assistant/amazon.json')\n",
    "df.to_csv('/Users/abhijeetchakravorty/Sites/ai-assistant/amazon.csv')\n",
    "print(df)"
   ]
  },
  {
   "cell_type": "code",
   "execution_count": 26,
   "metadata": {},
   "outputs": [
    {
     "name": "stdout",
     "output_type": "stream",
     "text": [
      "   Unnamed: 0                                               name  \\\n",
      "0           0                                                NaN   \n",
      "1           1          Redmi 9 (Sky Blue, 4GB RAM, 64GB Storage)   \n",
      "2           2  Redmi 9A (Nature Green, 2GB Ram, 32GB Storage)...   \n",
      "3           3                                                NaN   \n",
      "4           4  (Renewed) Samsung Galaxy F41 (Fusion Black, 6G...   \n",
      "\n",
      "  discountedPrice                                             imgUrl  \\\n",
      "0             NaN  https://images-na.ssl-images-amazon.com/images...   \n",
      "1           8,799  https://m.media-amazon.com/images/I/71A9Vo1Bat...   \n",
      "2           6,799  https://m.media-amazon.com/images/I/71sxlhYhKW...   \n",
      "3             NaN  https://images-na.ssl-images-amazon.com/images...   \n",
      "4          15,499  https://m.media-amazon.com/images/I/51IwsJ2F+q...   \n",
      "\n",
      "  actualPrice              rating  \n",
      "0         NaN                 NaN  \n",
      "1      ₹8,799  4.1 out of 5 stars  \n",
      "2      ₹6,799  4.2 out of 5 stars  \n",
      "3         NaN                 NaN  \n",
      "4     ₹15,499                 NaN  \n"
     ]
    }
   ],
   "source": [
    "dat = pd.read_csv('/Users/abhijeetchakravorty/Sites/ai-assistant/amazon.csv')\n",
    "print(dat.head())"
   ]
  },
  {
   "cell_type": "code",
   "execution_count": 27,
   "metadata": {},
   "outputs": [
    {
     "data": {
      "text/html": [
       "<div>\n",
       "<style scoped>\n",
       "    .dataframe tbody tr th:only-of-type {\n",
       "        vertical-align: middle;\n",
       "    }\n",
       "\n",
       "    .dataframe tbody tr th {\n",
       "        vertical-align: top;\n",
       "    }\n",
       "\n",
       "    .dataframe thead th {\n",
       "        text-align: right;\n",
       "    }\n",
       "</style>\n",
       "<table border=\"1\" class=\"dataframe\">\n",
       "  <thead>\n",
       "    <tr style=\"text-align: right;\">\n",
       "      <th></th>\n",
       "      <th>Unnamed: 0</th>\n",
       "      <th>name</th>\n",
       "      <th>discountedPrice</th>\n",
       "      <th>imgUrl</th>\n",
       "      <th>actualPrice</th>\n",
       "      <th>rating</th>\n",
       "    </tr>\n",
       "  </thead>\n",
       "  <tbody>\n",
       "    <tr>\n",
       "      <th>0</th>\n",
       "      <td>False</td>\n",
       "      <td>True</td>\n",
       "      <td>True</td>\n",
       "      <td>False</td>\n",
       "      <td>True</td>\n",
       "      <td>True</td>\n",
       "    </tr>\n",
       "    <tr>\n",
       "      <th>1</th>\n",
       "      <td>False</td>\n",
       "      <td>False</td>\n",
       "      <td>False</td>\n",
       "      <td>False</td>\n",
       "      <td>False</td>\n",
       "      <td>False</td>\n",
       "    </tr>\n",
       "    <tr>\n",
       "      <th>2</th>\n",
       "      <td>False</td>\n",
       "      <td>False</td>\n",
       "      <td>False</td>\n",
       "      <td>False</td>\n",
       "      <td>False</td>\n",
       "      <td>False</td>\n",
       "    </tr>\n",
       "    <tr>\n",
       "      <th>3</th>\n",
       "      <td>False</td>\n",
       "      <td>True</td>\n",
       "      <td>True</td>\n",
       "      <td>False</td>\n",
       "      <td>True</td>\n",
       "      <td>True</td>\n",
       "    </tr>\n",
       "    <tr>\n",
       "      <th>4</th>\n",
       "      <td>False</td>\n",
       "      <td>False</td>\n",
       "      <td>False</td>\n",
       "      <td>False</td>\n",
       "      <td>False</td>\n",
       "      <td>True</td>\n",
       "    </tr>\n",
       "    <tr>\n",
       "      <th>...</th>\n",
       "      <td>...</td>\n",
       "      <td>...</td>\n",
       "      <td>...</td>\n",
       "      <td>...</td>\n",
       "      <td>...</td>\n",
       "      <td>...</td>\n",
       "    </tr>\n",
       "    <tr>\n",
       "      <th>228</th>\n",
       "      <td>False</td>\n",
       "      <td>False</td>\n",
       "      <td>False</td>\n",
       "      <td>False</td>\n",
       "      <td>False</td>\n",
       "      <td>False</td>\n",
       "    </tr>\n",
       "    <tr>\n",
       "      <th>229</th>\n",
       "      <td>False</td>\n",
       "      <td>False</td>\n",
       "      <td>False</td>\n",
       "      <td>False</td>\n",
       "      <td>False</td>\n",
       "      <td>False</td>\n",
       "    </tr>\n",
       "    <tr>\n",
       "      <th>230</th>\n",
       "      <td>False</td>\n",
       "      <td>True</td>\n",
       "      <td>True</td>\n",
       "      <td>True</td>\n",
       "      <td>True</td>\n",
       "      <td>True</td>\n",
       "    </tr>\n",
       "    <tr>\n",
       "      <th>231</th>\n",
       "      <td>False</td>\n",
       "      <td>True</td>\n",
       "      <td>True</td>\n",
       "      <td>True</td>\n",
       "      <td>True</td>\n",
       "      <td>True</td>\n",
       "    </tr>\n",
       "    <tr>\n",
       "      <th>232</th>\n",
       "      <td>False</td>\n",
       "      <td>True</td>\n",
       "      <td>True</td>\n",
       "      <td>True</td>\n",
       "      <td>True</td>\n",
       "      <td>True</td>\n",
       "    </tr>\n",
       "  </tbody>\n",
       "</table>\n",
       "<p>233 rows × 6 columns</p>\n",
       "</div>"
      ],
      "text/plain": [
       "     Unnamed: 0   name  discountedPrice  imgUrl  actualPrice  rating\n",
       "0         False   True             True   False         True    True\n",
       "1         False  False            False   False        False   False\n",
       "2         False  False            False   False        False   False\n",
       "3         False   True             True   False         True    True\n",
       "4         False  False            False   False        False    True\n",
       "..          ...    ...              ...     ...          ...     ...\n",
       "228       False  False            False   False        False   False\n",
       "229       False  False            False   False        False   False\n",
       "230       False   True             True    True         True    True\n",
       "231       False   True             True    True         True    True\n",
       "232       False   True             True    True         True    True\n",
       "\n",
       "[233 rows x 6 columns]"
      ]
     },
     "execution_count": 27,
     "metadata": {},
     "output_type": "execute_result"
    }
   ],
   "source": [
    "dat.isnull()"
   ]
  },
  {
   "cell_type": "code",
   "execution_count": 28,
   "metadata": {},
   "outputs": [
    {
     "name": "stdout",
     "output_type": "stream",
     "text": [
      "   Unnamed: 0                                               name  \\\n",
      "1           1          Redmi 9 (Sky Blue, 4GB RAM, 64GB Storage)   \n",
      "2           2  Redmi 9A (Nature Green, 2GB Ram, 32GB Storage)...   \n",
      "5           5  Oppo A31 (Mystery Black, 6GB RAM, 128GB Storag...   \n",
      "6           6          Redmi 9 (Sky Blue, 4GB RAM, 64GB Storage)   \n",
      "7           7  Vivo Y31 (Ocean Blue, 6GB, 128GB Storage) with...   \n",
      "\n",
      "  discountedPrice                                             imgUrl  \\\n",
      "1           8,799  https://m.media-amazon.com/images/I/71A9Vo1Bat...   \n",
      "2           6,799  https://m.media-amazon.com/images/I/71sxlhYhKW...   \n",
      "5          11,990  https://m.media-amazon.com/images/I/71KCwNV6Mu...   \n",
      "6           8,799  https://m.media-amazon.com/images/I/71A9Vo1Bat...   \n",
      "7          16,490  https://m.media-amazon.com/images/I/71YW54xTE1...   \n",
      "\n",
      "  actualPrice              rating  \n",
      "1      ₹8,799  4.1 out of 5 stars  \n",
      "2      ₹6,799  4.2 out of 5 stars  \n",
      "5     ₹11,990  4.2 out of 5 stars  \n",
      "6      ₹8,799  4.1 out of 5 stars  \n",
      "7     ₹16,490  4.3 out of 5 stars  \n"
     ]
    }
   ],
   "source": [
    "dat.dropna(subset=[\"name\", \"discountedPrice\", \"imgUrl\", \"actualPrice\", \"rating\"], inplace=True)\n",
    "print(dat.head())"
   ]
  },
  {
   "cell_type": "code",
   "execution_count": 36,
   "metadata": {},
   "outputs": [],
   "source": [
    "dat.to_csv('/Users/abhijeetchakravorty/Sites/ai-assistant/amazon-structured.csv', index=False)"
   ]
  },
  {
   "cell_type": "code",
   "execution_count": 37,
   "metadata": {},
   "outputs": [
    {
     "name": "stdout",
     "output_type": "stream",
     "text": [
      "   Unnamed: 0                                               name  \\\n",
      "0           1          Redmi 9 (Sky Blue, 4GB RAM, 64GB Storage)   \n",
      "1           2  Redmi 9A (Nature Green, 2GB Ram, 32GB Storage)...   \n",
      "2           5  Oppo A31 (Mystery Black, 6GB RAM, 128GB Storag...   \n",
      "3           6          Redmi 9 (Sky Blue, 4GB RAM, 64GB Storage)   \n",
      "4           7  Vivo Y31 (Ocean Blue, 6GB, 128GB Storage) with...   \n",
      "\n",
      "  discountedPrice                                             imgUrl  \\\n",
      "0           8,799  https://m.media-amazon.com/images/I/71A9Vo1Bat...   \n",
      "1           6,799  https://m.media-amazon.com/images/I/71sxlhYhKW...   \n",
      "2          11,990  https://m.media-amazon.com/images/I/71KCwNV6Mu...   \n",
      "3           8,799  https://m.media-amazon.com/images/I/71A9Vo1Bat...   \n",
      "4          16,490  https://m.media-amazon.com/images/I/71YW54xTE1...   \n",
      "\n",
      "  actualPrice              rating  \n",
      "0      ₹8,799  4.1 out of 5 stars  \n",
      "1      ₹6,799  4.2 out of 5 stars  \n",
      "2     ₹11,990  4.2 out of 5 stars  \n",
      "3      ₹8,799  4.1 out of 5 stars  \n",
      "4     ₹16,490  4.3 out of 5 stars  \n"
     ]
    }
   ],
   "source": [
    "data = pd.read_csv('/Users/abhijeetchakravorty/Sites/ai-assistant/amazon-structured.csv')\n",
    "print(data.head())"
   ]
  },
  {
   "cell_type": "code",
   "execution_count": 60,
   "metadata": {},
   "outputs": [
    {
     "name": "stdout",
     "output_type": "stream",
     "text": [
      "0       8799.0\n",
      "1       6799.0\n",
      "2      11990.0\n",
      "3       8799.0\n",
      "4      16490.0\n",
      "        ...   \n",
      "164     9200.0\n",
      "165    11490.0\n",
      "166    10499.0\n",
      "167     4799.0\n",
      "168    10999.0\n",
      "Name: 1, Length: 169, dtype: float64\n"
     ]
    }
   ],
   "source": [
    "import seaborn as ssns\n",
    "import matplotlib.pyplot as plt\n",
    "import numpy as np\n",
    "data_explore = data.copy()\n",
    "actual = data_explore[\"actualPrice\"].str.split(\"₹\", n = 1, expand = True)\n",
    "discounted = data_explore[\"discountedPrice\"].str.split(\"₹\", n = 1, expand = True)\n",
    "actualD = actual[1].str.replace(\",\",\"\").astype(float)"
   ]
  },
  {
   "cell_type": "code",
   "execution_count": null,
   "metadata": {},
   "outputs": [],
   "source": []
  }
 ],
 "metadata": {
  "kernelspec": {
   "display_name": "Python 3",
   "language": "python",
   "name": "python3"
  },
  "language_info": {
   "codemirror_mode": {
    "name": "ipython",
    "version": 3
   },
   "file_extension": ".py",
   "mimetype": "text/x-python",
   "name": "python",
   "nbconvert_exporter": "python",
   "pygments_lexer": "ipython3",
   "version": "3.8.5"
  }
 },
 "nbformat": 4,
 "nbformat_minor": 4
}
